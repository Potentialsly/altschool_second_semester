{
 "cells": [
  {
   "cell_type": "code",
   "execution_count": 1,
   "id": "4e59c779",
   "metadata": {},
   "outputs": [
    {
     "name": "stdout",
     "output_type": "stream",
     "text": [
      "Collecting pymongo\n",
      "  Downloading pymongo-4.15.2-cp310-cp310-win_amd64.whl (807 kB)\n",
      "     ------------------------------------ 808.0/808.0 kB 398.9 kB/s eta 0:00:00\n",
      "Collecting dnspython<3.0.0,>=1.16.0\n",
      "  Downloading dnspython-2.8.0-py3-none-any.whl (331 kB)\n",
      "     ------------------------------------ 331.1/331.1 kB 230.7 kB/s eta 0:00:00\n",
      "Installing collected packages: dnspython, pymongo\n",
      "Successfully installed dnspython-2.8.0 pymongo-4.15.2\n",
      "Note: you may need to restart the kernel to use updated packages.\n"
     ]
    },
    {
     "name": "stderr",
     "output_type": "stream",
     "text": [
      "\n",
      "[notice] A new release of pip available: 22.2.2 -> 25.2\n",
      "[notice] To update, run: python.exe -m pip install --upgrade pip\n"
     ]
    }
   ],
   "source": [
    "pip install pymongo"
   ]
  },
  {
   "cell_type": "code",
   "execution_count": 2,
   "id": "f7ebb52c",
   "metadata": {},
   "outputs": [],
   "source": [
    "# eduhub_setup.py (or notebook cell)\n",
    "from pymongo import MongoClient\n",
    "from pymongo.errors import CollectionInvalid\n",
    "from datetime import datetime\n",
    "import re\n",
    "client = MongoClient(\"mongodb://localhost:27017/\")\n",
    "db = client[\"eduhub_db\"]"
   ]
  },
  {
   "cell_type": "code",
   "execution_count": null,
   "id": "d0969fd4",
   "metadata": {},
   "outputs": [],
   "source": [
    "1 — Database & Collections with JSON Schema Validation"
   ]
  },
  {
   "cell_type": "code",
   "execution_count": 2,
   "id": "7713ad0c",
   "metadata": {},
   "outputs": [],
   "source": [
    "# eduhub_setup.py (or notebook cell)\n",
    "from pymongo import MongoClient\n",
    "from pymongo.errors import CollectionInvalid\n",
    "from datetime import datetime\n",
    "import re\n",
    "\n",
    "client = MongoClient(\"mongodb://localhost:27017/\")\n",
    "db = client[\"eduhub_db\"]\n",
    "\n",
    "# JSON Schema validators for collections\n",
    "user_validator = {\n",
    "    \"$jsonSchema\": {\n",
    "        \"bsonType\": \"object\",\n",
    "        \"required\": [\"userId\", \"email\", \"firstName\", \"lastName\", \"role\", \"dateJoined\", \"isActive\"],\n",
    "        \"properties\": {\n",
    "            \"userId\": {\"bsonType\": \"string\"},\n",
    "            \"email\": {\"bsonType\": \"string\", \"pattern\": r\"^[^@ \\t\\r\\n]+@[^@ \\t\\r\\n]+\\.[^@ \\t\\r\\n]+$\"},\n",
    "            \"firstName\": {\"bsonType\": \"string\"},\n",
    "            \"lastName\": {\"bsonType\": \"string\"},\n",
    "            \"role\": {\"enum\": [\"student\", \"instructor\", \"admin\"]},\n",
    "            \"dateJoined\": {\"bsonType\": \"date\"},\n",
    "            \"profile\": {\n",
    "                \"bsonType\": \"object\",\n",
    "                \"properties\": {\n",
    "                    \"bio\": {\"bsonType\": \"string\"},\n",
    "                    \"avatar\": {\"bsonType\": \"string\"},\n",
    "                    \"skills\": {\"bsonType\": \"array\", \"items\": {\"bsonType\": \"string\"}}\n",
    "                }\n",
    "            },\n",
    "            \"isActive\": {\"bsonType\": \"bool\"}\n",
    "        }\n",
    "    }\n",
    "}\n",
    "\n",
    "course_validator = {\n",
    "    \"$jsonSchema\": {\n",
    "        \"bsonType\": \"object\",\n",
    "        \"required\": [\"courseId\", \"title\", \"instructorId\", \"createdAt\", \"isPublished\"],\n",
    "        \"properties\": {\n",
    "            \"courseId\": {\"bsonType\": \"string\"},\n",
    "            \"title\": {\"bsonType\": \"string\"},\n",
    "            \"description\": {\"bsonType\": \"string\"},\n",
    "            \"instructorId\": {\"bsonType\": \"string\"},\n",
    "            \"category\": {\"bsonType\": \"string\"},\n",
    "            \"level\": {\"enum\": [\"beginner\", \"intermediate\", \"advanced\"]},\n",
    "            \"duration\": {\"bsonType\": \"double\"},\n",
    "            \"price\": {\"bsonType\": [\"double\", \"int\"]},\n",
    "            \"tags\": {\"bsonType\": \"array\", \"items\": {\"bsonType\": \"string\"}},\n",
    "            \"createdAt\": {\"bsonType\": \"date\"},\n",
    "            \"updatedAt\": {\"bsonType\": [\"date\", \"null\"]},\n",
    "            \"isPublished\": {\"bsonType\": \"bool\"},\n",
    "            \"rating\": {\"bsonType\": [\"double\", \"null\"], \"minimum\": 0, \"maximum\": 5}\n",
    "        }\n",
    "    }\n",
    "}\n",
    "\n",
    "enrollment_validator = {\n",
    "    \"$jsonSchema\": {\n",
    "        \"bsonType\": \"object\",\n",
    "        \"required\": [\"enrollmentId\", \"studentId\", \"courseId\", \"enrolledAt\", \"status\"],\n",
    "        \"properties\": {\n",
    "            \"enrollmentId\": {\"bsonType\": \"string\"},\n",
    "            \"studentId\": {\"bsonType\": \"string\"},\n",
    "            \"courseId\": {\"bsonType\": \"string\"},\n",
    "            \"enrolledAt\": {\"bsonType\": \"date\"},\n",
    "            \"status\": {\"enum\": [\"in_progress\", \"completed\", \"dropped\"]},\n",
    "            \"progress\": {\"bsonType\": \"double\", \"minimum\": 0, \"maximum\": 100}\n",
    "        }\n",
    "    }\n",
    "}\n",
    "\n",
    "lesson_validator = {\n",
    "    \"$jsonSchema\": {\n",
    "        \"bsonType\": \"object\",\n",
    "        \"required\": [\"lessonId\", \"courseId\", \"title\", \"order\"],\n",
    "        \"properties\": {\n",
    "            \"lessonId\": {\"bsonType\": \"string\"},\n",
    "            \"courseId\": {\"bsonType\": \"string\"},\n",
    "            \"title\": {\"bsonType\": \"string\"},\n",
    "            \"content\": {\"bsonType\": \"string\"},\n",
    "            \"durationMinutes\": {\"bsonType\": [\"int\",\"double\"]},\n",
    "            \"order\": {\"bsonType\": \"int\"}\n",
    "        }\n",
    "    }\n",
    "}\n",
    "\n",
    "assignment_validator = {\n",
    "    \"$jsonSchema\": {\n",
    "        \"bsonType\": \"object\",\n",
    "        \"required\": [\"assignmentId\", \"courseId\", \"title\", \"dueDate\"],\n",
    "        \"properties\": {\n",
    "            \"assignmentId\": {\"bsonType\": \"string\"},\n",
    "            \"courseId\": {\"bsonType\": \"string\"},\n",
    "            \"title\": {\"bsonType\": \"string\"},\n",
    "            \"description\": {\"bsonType\": \"string\"},\n",
    "            \"dueDate\": {\"bsonType\": \"date\"},\n",
    "            \"maxPoints\": {\"bsonType\": \"int\"}\n",
    "        }\n",
    "    }\n",
    "}\n",
    "\n",
    "submission_validator = {\n",
    "    \"$jsonSchema\": {\n",
    "        \"bsonType\": \"object\",\n",
    "        \"required\": [\"submissionId\", \"assignmentId\", \"studentId\", \"submittedAt\"],\n",
    "        \"properties\": {\n",
    "            \"submissionId\": {\"bsonType\": \"string\"},\n",
    "            \"assignmentId\": {\"bsonType\": \"string\"},\n",
    "            \"studentId\": {\"bsonType\": \"string\"},\n",
    "            \"submittedAt\": {\"bsonType\": \"date\"},\n",
    "            \"grade\": {\"bsonType\": [\"double\", \"null\"]},\n",
    "            \"feedback\": {\"bsonType\": [\"string\", \"null\"]},\n",
    "            \"files\": {\"bsonType\": [\"array\", \"null\"], \"items\": {\"bsonType\": \"string\"}}\n",
    "        }\n",
    "    }\n",
    "}\n",
    "\n",
    "# Create collections with validators (if they don't exist)\n",
    "validators = {\n",
    "    \"users\": user_validator,\n",
    "    \"courses\": course_validator,\n",
    "    \"enrollments\": enrollment_validator,\n",
    "    \"lessons\": lesson_validator,\n",
    "    \"assignments\": assignment_validator,\n",
    "    \"submissions\": submission_validator\n",
    "}\n",
    "\n",
    "for coll_name, v in validators.items():\n",
    "    try:\n",
    "        db.create_collection(coll_name)\n",
    "    except CollectionInvalid:\n",
    "        pass\n",
    "    db.command(\"collMod\", coll_name, validator=v, validationLevel=\"moderate\")\n"
   ]
  },
  {
   "cell_type": "code",
   "execution_count": null,
   "id": "7e2636fd",
   "metadata": {},
   "outputs": [],
   "source": [
    "3 — Insert sample data (generator code)"
   ]
  },
  {
   "cell_type": "code",
   "execution_count": 4,
   "id": "b141b9d8",
   "metadata": {},
   "outputs": [
    {
     "name": "stdout",
     "output_type": "stream",
     "text": [
      "Sample data populated.\n"
     ]
    }
   ],
   "source": [
    "# sample_data_generator.py\n",
    "from pymongo import MongoClient\n",
    "from datetime import datetime, timedelta\n",
    "import random\n",
    "import json\n",
    "from faker import Faker  # pip install faker\n",
    "fake = Faker()\n",
    "\n",
    "client = MongoClient(\"mongodb://localhost:27017/\")\n",
    "db = client[\"eduhub_db\"]\n",
    "\n",
    "def gen_users(n_students=15, n_instructors=5):\n",
    "    users = []\n",
    "    # instructors\n",
    "    for i in range(n_instructors):\n",
    "        uid = f\"instr_{100+i}\"\n",
    "        users.append({\n",
    "            \"userId\": uid,\n",
    "            \"email\": f\"{uid}@example.com\",\n",
    "            \"firstName\": fake.first_name(),\n",
    "            \"lastName\": fake.last_name(),\n",
    "            \"role\": \"instructor\",\n",
    "            \"dateJoined\": fake.date_time_between(start_date='-2y', end_date='now'),\n",
    "            \"profile\": {\"bio\": fake.sentence(nb_words=10), \"avatar\": \"\", \"skills\": fake.words(nb=3)},\n",
    "            \"isActive\": True\n",
    "        })\n",
    "    # students\n",
    "    for i in range(n_students):\n",
    "        uid = f\"stud_{1000+i}\"\n",
    "        users.append({\n",
    "            \"userId\": uid,\n",
    "            \"email\": f\"{uid}@example.com\",\n",
    "            \"firstName\": fake.first_name(),\n",
    "            \"lastName\": fake.last_name(),\n",
    "            \"role\": \"student\",\n",
    "            \"dateJoined\": fake.date_time_between(start_date='-1y', end_date='now'),\n",
    "            \"profile\": {\"bio\": fake.sentence(nb_words=8), \"avatar\": \"\", \"skills\": fake.words(nb=2)},\n",
    "            \"isActive\": True\n",
    "        })\n",
    "    return users\n",
    "\n",
    "def gen_courses(instr_ids, n=8):\n",
    "    cats = [\"programming\",\"data-science\",\"design\",\"business\",\"finance\",\"language\"]\n",
    "    levels = [\"beginner\",\"intermediate\",\"advanced\"]\n",
    "    courses=[]\n",
    "    for i in range(n):\n",
    "        cid = f\"course_{200+i}\"\n",
    "        instr = random.choice(instr_ids)\n",
    "        created = fake.date_time_between(start_date='-2y', end_date='now')\n",
    "        courses.append({\n",
    "            \"courseId\": cid,\n",
    "            \"title\": fake.sentence(nb_words=4).rstrip('.'),\n",
    "            \"description\": fake.paragraph(nb_sentences=2),\n",
    "            \"instructorId\": instr,\n",
    "            \"category\": random.choice(cats),\n",
    "            \"level\": random.choice(levels),\n",
    "            \"duration\": round(random.uniform(1.0, 40.0), 1),\n",
    "            \"price\": round(random.choice([0, 19.99, 49.99, 99.99, 149.99, 199.99]),2),\n",
    "            \"tags\": fake.words(nb=3),\n",
    "            \"createdAt\": created,\n",
    "            \"updatedAt\": None,\n",
    "            \"isPublished\": random.choice([True, False]),\n",
    "            \"rating\": round(random.uniform(3.0,5.0),1)\n",
    "        })\n",
    "    return courses\n",
    "\n",
    "def populate():\n",
    "    users = gen_users()\n",
    "    db.users.delete_many({})\n",
    "    db.courses.delete_many({})\n",
    "    db.enrollments.delete_many({})\n",
    "    db.lessons.delete_many({})\n",
    "    db.assignments.delete_many({})\n",
    "    db.submissions.delete_many({})\n",
    "\n",
    "    db.users.insert_many(users)\n",
    "    instructor_ids = [u[\"userId\"] for u in users if u[\"role\"]==\"instructor\"]\n",
    "    student_ids = [u[\"userId\"] for u in users if u[\"role\"]==\"student\"]\n",
    "\n",
    "    courses = gen_courses(instructor_ids, 8)\n",
    "    db.courses.insert_many(courses)\n",
    "\n",
    "    # enrollments sample\n",
    "    enrollments=[]\n",
    "    ecount=0\n",
    "    for student in student_ids[:15]:\n",
    "        chosen = random.sample(courses, k=random.randint(1,3))\n",
    "        for c in chosen:\n",
    "            ecount += 1\n",
    "            enrollments.append({\n",
    "                \"enrollmentId\": f\"enr_{ecount}\",\n",
    "                \"studentId\": student,\n",
    "                \"courseId\": c[\"courseId\"],\n",
    "                \"enrolledAt\": fake.date_time_between(start_date=c[\"createdAt\"], end_date='now'),\n",
    "                \"status\": random.choice([\"in_progress\",\"completed\",\"dropped\"]),\n",
    "                \"progress\": round(random.uniform(0,100),1)\n",
    "            })\n",
    "    db.enrollments.insert_many(enrollments)\n",
    "\n",
    "    # lessons: 25 lessons across courses\n",
    "    lessons = []\n",
    "    lid=0\n",
    "    for c in courses:\n",
    "        n_lessons = random.randint(2,6)\n",
    "        for o in range(1,n_lessons+1):\n",
    "            lid += 1\n",
    "            lessons.append({\n",
    "                \"lessonId\": f\"lesson_{lid}\",\n",
    "                \"courseId\": c[\"courseId\"],\n",
    "                \"title\": f\"{c['title']} - Lesson {o}\",\n",
    "                \"content\": fake.paragraph(nb_sentences=3),\n",
    "                \"durationMinutes\": random.randint(5,60),\n",
    "                \"order\": o\n",
    "            })\n",
    "    db.lessons.insert_many(lessons)\n",
    "\n",
    "    # assignments: 10\n",
    "    assignments=[]\n",
    "    aid=0\n",
    "    for c in courses[:6]:\n",
    "        for _ in range(random.randint(0,2)):\n",
    "            aid += 1\n",
    "            assignments.append({\n",
    "                \"assignmentId\": f\"assign_{aid}\",\n",
    "                \"courseId\": c[\"courseId\"],\n",
    "                \"title\": f\"{c['title']} Assignment {aid}\",\n",
    "                \"description\": fake.paragraph(nb_sentences=2),\n",
    "                \"dueDate\": fake.date_time_between(start_date='now', end_date='+30d'),\n",
    "                \"maxPoints\": 100\n",
    "            })\n",
    "    db.assignments.insert_many(assignments)\n",
    "\n",
    "    # submissions: 12\n",
    "    submissions=[]\n",
    "    sid=0\n",
    "    for a in assignments[:12]:\n",
    "        for stud in random.sample(student_ids, k=min(3,len(student_ids))):\n",
    "            sid+=1\n",
    "            submissions.append({\n",
    "                \"submissionId\": f\"sub_{sid}\",\n",
    "                \"assignmentId\": a[\"assignmentId\"],\n",
    "                \"studentId\": stud,\n",
    "                \"submittedAt\": fake.date_time_between(start_date=a[\"dueDate\"] - timedelta(days=10), end_date=a[\"dueDate\"]),\n",
    "                \"grade\": round(random.uniform(50,100),1),\n",
    "                \"feedback\": fake.sentence(nb_words=6),\n",
    "                \"files\": []\n",
    "            })\n",
    "    db.submissions.insert_many(submissions)\n",
    "\n",
    "if __name__ == \"__main__\":\n",
    "    populate()\n",
    "    print(\"Sample data populated.\")\n"
   ]
  },
  {
   "cell_type": "code",
   "execution_count": null,
   "id": "70328f2b",
   "metadata": {},
   "outputs": [],
   "source": [
    "4 — Required CRUD operations "
   ]
  },
  {
   "cell_type": "code",
   "execution_count": 6,
   "id": "721d6efc",
   "metadata": {},
   "outputs": [
    {
     "name": "stderr",
     "output_type": "stream",
     "text": [
      "C:\\Users\\SYLVESTER\\AppData\\Local\\Temp\\ipykernel_3720\\1955656641.py:14: DeprecationWarning: datetime.datetime.utcnow() is deprecated and scheduled for removal in a future version. Use timezone-aware objects to represent datetimes in UTC: datetime.datetime.now(datetime.UTC).\n",
      "  \"dateJoined\": datetime.utcnow(),\n"
     ]
    },
    {
     "data": {
      "text/plain": [
       "InsertOneResult(ObjectId('68e1c70a2cb9762fe4258e56'), acknowledged=True)"
      ]
     },
     "execution_count": 6,
     "metadata": {},
     "output_type": "execute_result"
    }
   ],
   "source": [
    "from pymongo import MongoClient\n",
    "from datetime import datetime\n",
    "\n",
    "client = MongoClient(\"mongodb://localhost:27017/\")\n",
    "db = client[\"eduhub_db\"]\n",
    "\n",
    "# Add a new student user\n",
    "new_user = {\n",
    "    \"userId\": \"stud_9999\",\n",
    "    \"email\": \"newstudent@example.com\",\n",
    "    \"firstName\": \"Samuel\",\n",
    "    \"lastName\": \"Okoro\",\n",
    "    \"role\": \"student\",\n",
    "    \"dateJoined\": datetime.utcnow(),\n",
    "    \"profile\": {\"bio\": \"New student\", \"avatar\": \"\", \"skills\": []},\n",
    "    \"isActive\": True\n",
    "}\n",
    "db.users.insert_one(new_user)"
   ]
  },
  {
   "cell_type": "code",
   "execution_count": 9,
   "id": "d99da8ae",
   "metadata": {},
   "outputs": [
    {
     "name": "stderr",
     "output_type": "stream",
     "text": [
      "C:\\Users\\SYLVESTER\\AppData\\Local\\Temp\\ipykernel_3720\\294335966.py:17: DeprecationWarning: datetime.datetime.utcnow() is deprecated and scheduled for removal in a future version. Use timezone-aware objects to represent datetimes in UTC: datetime.datetime.now(datetime.UTC).\n",
      "  \"createdAt\": datetime.utcnow(),\n"
     ]
    },
    {
     "data": {
      "text/plain": [
       "InsertOneResult(ObjectId('68e1c8d22cb9762fe4258e5c'), acknowledged=True)"
      ]
     },
     "execution_count": 9,
     "metadata": {},
     "output_type": "execute_result"
    }
   ],
   "source": [
    "from pymongo import MongoClient\n",
    "from datetime import datetime\n",
    "\n",
    "client = MongoClient(\"mongodb://localhost:27017/\")\n",
    "db = client[\"eduhub_db\"]\n",
    "# Create a new course\n",
    "new_course = {\n",
    "    \"courseId\": \"course_999\",\n",
    "    \"title\": \"Automated Testing\",\n",
    "    \"description\": \"Unit testing and integration testing.\",\n",
    "    \"instructorId\": \"instr_100\",\n",
    "    \"category\": \"programming\",\n",
    "    \"level\": \"intermediate\",\n",
    "    \"duration\": 8.0,\n",
    "    \"price\": 79.99,\n",
    "    \"tags\": [\"testing\",\"ci\"],\n",
    "    \"createdAt\": datetime.utcnow(),\n",
    "    \"updatedAt\": None,\n",
    "    \"isPublished\": False\n",
    "}\n",
    "db.courses.insert_one(new_course)\n",
    "\n"
   ]
  },
  {
   "cell_type": "code",
   "execution_count": 10,
   "id": "ff1bd158",
   "metadata": {},
   "outputs": [
    {
     "name": "stderr",
     "output_type": "stream",
     "text": [
      "C:\\Users\\SYLVESTER\\AppData\\Local\\Temp\\ipykernel_3720\\3364821550.py:11: DeprecationWarning: datetime.datetime.utcnow() is deprecated and scheduled for removal in a future version. Use timezone-aware objects to represent datetimes in UTC: datetime.datetime.now(datetime.UTC).\n",
      "  \"enrolledAt\": datetime.utcnow(),\n"
     ]
    },
    {
     "data": {
      "text/plain": [
       "InsertOneResult(ObjectId('68e1c9362cb9762fe4258e5e'), acknowledged=True)"
      ]
     },
     "execution_count": 10,
     "metadata": {},
     "output_type": "execute_result"
    }
   ],
   "source": [
    "from pymongo import MongoClient\n",
    "from datetime import datetime\n",
    "\n",
    "client = MongoClient(\"mongodb://localhost:27017/\")\n",
    "db = client[\"eduhub_db\"]\n",
    "# Enroll a student in a course\n",
    "enrollment = {\n",
    "    \"enrollmentId\": \"enr_999\",\n",
    "    \"studentId\": \"stud_9999\",\n",
    "    \"courseId\": \"course_999\",\n",
    "    \"enrolledAt\": datetime.utcnow(),\n",
    "    \"status\": \"in_progress\",\n",
    "    \"progress\": 0.0\n",
    "}\n",
    "db.enrollments.insert_one(enrollment)\n"
   ]
  },
  {
   "cell_type": "code",
   "execution_count": 11,
   "id": "3189874f",
   "metadata": {},
   "outputs": [
    {
     "data": {
      "text/plain": [
       "InsertOneResult(ObjectId('68e1c96d2cb9762fe4258e60'), acknowledged=True)"
      ]
     },
     "execution_count": 11,
     "metadata": {},
     "output_type": "execute_result"
    }
   ],
   "source": [
    "from pymongo import MongoClient\n",
    "from datetime import datetime\n",
    "\n",
    "client = MongoClient(\"mongodb://localhost:27017/\")\n",
    "db = client[\"eduhub_db\"]\n",
    "# Add a new lesson to existing course\n",
    "lesson = {\n",
    "    \"lessonId\": \"lesson_999\",\n",
    "    \"courseId\": \"course_999\",\n",
    "    \"title\": \"Intro to testing\",\n",
    "    \"content\": \"Lesson content here\",\n",
    "    \"durationMinutes\": 30,\n",
    "    \"order\": 1\n",
    "}\n",
    "db.lessons.insert_one(lesson)"
   ]
  },
  {
   "cell_type": "code",
   "execution_count": null,
   "id": "18b0a415",
   "metadata": {},
   "outputs": [],
   "source": [
    "3.2 Read operations"
   ]
  },
  {
   "cell_type": "code",
   "execution_count": 16,
   "id": "193787f0",
   "metadata": {},
   "outputs": [
    {
     "name": "stdout",
     "output_type": "stream",
     "text": [
      "[{'_id': ObjectId('68e1c6332cb9762fe4258de2'), 'userId': 'stud_1000', 'email': 'stud_1000@example.com', 'firstName': 'Craig', 'lastName': 'Butler', 'role': 'student', 'dateJoined': datetime.datetime(2025, 3, 8, 22, 17, 22), 'profile': {'bio': 'Turn director affect agreement live difference very raise.', 'avatar': '', 'skills': ['month', 'road']}, 'isActive': True}, {'_id': ObjectId('68e1c6332cb9762fe4258de3'), 'userId': 'stud_1001', 'email': 'stud_1001@example.com', 'firstName': 'Gregory', 'lastName': 'Roberts', 'role': 'student', 'dateJoined': datetime.datetime(2025, 1, 9, 16, 49, 43), 'profile': {'bio': 'Growth attorney which own effect arrive seat same.', 'avatar': '', 'skills': ['community', 'food']}, 'isActive': True}, {'_id': ObjectId('68e1c6332cb9762fe4258de4'), 'userId': 'stud_1002', 'email': 'stud_1002@example.com', 'firstName': 'Pamela', 'lastName': 'Hernandez', 'role': 'student', 'dateJoined': datetime.datetime(2025, 1, 28, 21, 1, 42), 'profile': {'bio': 'Without over nearly style wonder amount.', 'avatar': '', 'skills': ['prevent', 'agency']}, 'isActive': True}, {'_id': ObjectId('68e1c6332cb9762fe4258de5'), 'userId': 'stud_1003', 'email': 'stud_1003@example.com', 'firstName': 'Aaron', 'lastName': 'Bates', 'role': 'student', 'dateJoined': datetime.datetime(2024, 10, 20, 4, 10, 38), 'profile': {'bio': 'Development quite half choose Mr control agency.', 'avatar': '', 'skills': ['suggest', 'change']}, 'isActive': True}, {'_id': ObjectId('68e1c6332cb9762fe4258de6'), 'userId': 'stud_1004', 'email': 'stud_1004@example.com', 'firstName': 'Elizabeth', 'lastName': 'Jacobs', 'role': 'student', 'dateJoined': datetime.datetime(2025, 3, 21, 4, 38, 4), 'profile': {'bio': 'Hotel save mouth son series natural address same.', 'avatar': '', 'skills': ['serve', 'well']}, 'isActive': True}, {'_id': ObjectId('68e1c6332cb9762fe4258de7'), 'userId': 'stud_1005', 'email': 'stud_1005@example.com', 'firstName': 'Nathaniel', 'lastName': 'Hardin', 'role': 'student', 'dateJoined': datetime.datetime(2025, 1, 22, 22, 21, 28), 'profile': {'bio': 'The Mr number language financial moment none appear east against.', 'avatar': '', 'skills': ['network', 'above']}, 'isActive': True}, {'_id': ObjectId('68e1c6332cb9762fe4258de8'), 'userId': 'stud_1006', 'email': 'stud_1006@example.com', 'firstName': 'Elizabeth', 'lastName': 'Coleman', 'role': 'student', 'dateJoined': datetime.datetime(2025, 3, 12, 5, 58, 8), 'profile': {'bio': 'Agent or in day decide condition wonder.', 'avatar': '', 'skills': ['sometimes', 'laugh']}, 'isActive': True}, {'_id': ObjectId('68e1c6332cb9762fe4258de9'), 'userId': 'stud_1007', 'email': 'stud_1007@example.com', 'firstName': 'Craig', 'lastName': 'Long', 'role': 'student', 'dateJoined': datetime.datetime(2024, 11, 4, 12, 48, 47), 'profile': {'bio': 'Painting standard picture animal mission statement sense factor strong.', 'avatar': '', 'skills': ['recent', 'deep']}, 'isActive': True}, {'_id': ObjectId('68e1c6332cb9762fe4258dea'), 'userId': 'stud_1008', 'email': 'stud_1008@example.com', 'firstName': 'Carol', 'lastName': 'Jones', 'role': 'student', 'dateJoined': datetime.datetime(2025, 3, 26, 8, 44, 18), 'profile': {'bio': 'Watch election table general bar risk parent prevent drug check.', 'avatar': '', 'skills': ['myself', 'exist']}, 'isActive': True}, {'_id': ObjectId('68e1c6332cb9762fe4258deb'), 'userId': 'stud_1009', 'email': 'stud_1009@example.com', 'firstName': 'Andrea', 'lastName': 'Moses', 'role': 'student', 'dateJoined': datetime.datetime(2025, 2, 17, 18, 6, 15), 'profile': {'bio': 'Understand someone not ground partner vote.', 'avatar': '', 'skills': ['form', 'message']}, 'isActive': True}, {'_id': ObjectId('68e1c6332cb9762fe4258dec'), 'userId': 'stud_1010', 'email': 'stud_1010@example.com', 'firstName': 'David', 'lastName': 'Watts', 'role': 'student', 'dateJoined': datetime.datetime(2025, 5, 19, 10, 14, 21), 'profile': {'bio': 'Thus wide media Mr show score pass environment wait stock.', 'avatar': '', 'skills': ['manager', 'top']}, 'isActive': True}, {'_id': ObjectId('68e1c6332cb9762fe4258ded'), 'userId': 'stud_1011', 'email': 'stud_1011@example.com', 'firstName': 'Jennifer', 'lastName': 'Gilbert', 'role': 'student', 'dateJoined': datetime.datetime(2025, 7, 23, 16, 4, 29), 'profile': {'bio': 'Involve whole tough investment mother view or six inside.', 'avatar': '', 'skills': ['usually', 'early']}, 'isActive': True}, {'_id': ObjectId('68e1c6332cb9762fe4258dee'), 'userId': 'stud_1012', 'email': 'stud_1012@example.com', 'firstName': 'Natalie', 'lastName': 'Coleman', 'role': 'student', 'dateJoined': datetime.datetime(2024, 10, 16, 7, 55, 39), 'profile': {'bio': 'Beyond evidence clear worry author vote blue.', 'avatar': '', 'skills': ['official', 'movie']}, 'isActive': True}, {'_id': ObjectId('68e1c6332cb9762fe4258def'), 'userId': 'stud_1013', 'email': 'stud_1013@example.com', 'firstName': 'John', 'lastName': 'Clark', 'role': 'student', 'dateJoined': datetime.datetime(2025, 4, 5, 0, 36, 3), 'profile': {'bio': 'Reveal thank special do toward.', 'avatar': '', 'skills': ['tax', 'say']}, 'isActive': True}, {'_id': ObjectId('68e1c6332cb9762fe4258df0'), 'userId': 'stud_1014', 'email': 'stud_1014@example.com', 'firstName': 'Melissa', 'lastName': 'Johnson', 'role': 'student', 'dateJoined': datetime.datetime(2024, 11, 3, 20, 35, 11), 'profile': {'bio': 'Color adult example name nothing hit human success society right.', 'avatar': '', 'skills': ['energy', 'teach']}, 'isActive': True}, {'_id': ObjectId('68e1c6842cb9762fe4258e53'), 'userId': 'stud_9999', 'email': 'newstudent@example.com', 'firstName': 'Samuel', 'lastName': 'Okoro', 'role': 'student', 'dateJoined': datetime.datetime(2025, 10, 5, 1, 14, 44, 585000), 'profile': {'bio': 'New student', 'avatar': '', 'skills': []}, 'isActive': True}, {'_id': ObjectId('68e1c70a2cb9762fe4258e56'), 'userId': 'stud_9999', 'email': 'newstudent@example.com', 'firstName': 'Samuel', 'lastName': 'Okoro', 'role': 'student', 'dateJoined': datetime.datetime(2025, 10, 5, 1, 16, 58, 680000), 'profile': {'bio': 'New student', 'avatar': '', 'skills': []}, 'isActive': True}]\n"
     ]
    }
   ],
   "source": [
    "active_students = list(db.users.find({\"role\":\"student\",\"isActive\":True}))\n",
    "print(active_students)"
   ]
  },
  {
   "cell_type": "code",
   "execution_count": 15,
   "id": "e524aa8f",
   "metadata": {},
   "outputs": [
    {
     "name": "stdout",
     "output_type": "stream",
     "text": [
      "[{'_id': ObjectId('68e1c8d22cb9762fe4258e5c'), 'courseId': 'course_999', 'title': 'Automated Testing', 'description': 'Unit testing and integration testing.', 'instructorId': 'instr_100', 'category': 'programming', 'level': 'intermediate', 'duration': 8.0, 'price': 79.99, 'tags': ['testing', 'ci'], 'createdAt': datetime.datetime(2025, 10, 5, 1, 24, 34, 579000), 'updatedAt': None, 'isPublished': False, 'instructor': {'_id': ObjectId('68e1c6332cb9762fe4258ddd'), 'userId': 'instr_100', 'email': 'instr_100@example.com', 'firstName': 'Brittney', 'lastName': 'Sloan', 'role': 'instructor', 'dateJoined': datetime.datetime(2024, 9, 20, 6, 59, 17), 'profile': {'bio': 'Minute near remain unit argue mean identify case.', 'avatar': '', 'skills': ['new', 'through', 'senior']}, 'isActive': True}}]\n"
     ]
    }
   ],
   "source": [
    "pipeline = [\n",
    "    {\"$match\": {\"courseId\": \"course_999\"}},\n",
    "    {\"$lookup\": {\n",
    "        \"from\": \"users\",\n",
    "        \"localField\": \"instructorId\",\n",
    "        \"foreignField\": \"userId\",\n",
    "        \"as\": \"instructor\"\n",
    "    }},\n",
    "    {\"$unwind\": {\"path\": \"$instructor\", \"preserveNullAndEmptyArrays\": True}}\n",
    "]\n",
    "course_with_instructor = list(db.courses.aggregate(pipeline))\n",
    "print(course_with_instructor)"
   ]
  },
  {
   "cell_type": "code",
   "execution_count": 17,
   "id": "306cd6b9",
   "metadata": {},
   "outputs": [
    {
     "name": "stdout",
     "output_type": "stream",
     "text": [
      "[{'_id': ObjectId('68e1c9362cb9762fe4258e5e'), 'enrollmentId': 'enr_999', 'studentId': 'stud_9999', 'courseId': 'course_999', 'enrolledAt': datetime.datetime(2025, 10, 5, 1, 26, 14, 343000), 'status': 'in_progress', 'progress': 0.0}]\n"
     ]
    }
   ],
   "source": [
    "enrolled_students = list(db.enrollments.find({\"courseId\": \"course_999\"}))\n",
    "print(enrolled_students)"
   ]
  },
  {
   "cell_type": "code",
   "execution_count": 14,
   "id": "af8b2356",
   "metadata": {},
   "outputs": [
    {
     "name": "stdout",
     "output_type": "stream",
     "text": [
      "[{'_id': ObjectId('68e1c6332cb9762fe4258df6'), 'courseId': 'course_205', 'title': 'Measure number', 'description': 'Health traditional history person season. Page group executive hot computer level wait.', 'instructorId': 'instr_100', 'category': 'programming', 'level': 'beginner', 'duration': 1.1, 'price': 199.99, 'tags': ['him', 'begin', 'know'], 'createdAt': datetime.datetime(2025, 2, 16, 8, 37, 47), 'updatedAt': None, 'isPublished': False, 'rating': 3.6}, {'_id': ObjectId('68e1c6332cb9762fe4258df8'), 'courseId': 'course_207', 'title': 'Remember song', 'description': 'Size very suggest. But one since sound.', 'instructorId': 'instr_103', 'category': 'programming', 'level': 'advanced', 'duration': 10.1, 'price': 99.99, 'tags': ['rate', 'keep', 'let'], 'createdAt': datetime.datetime(2024, 1, 28, 0, 15, 44), 'updatedAt': None, 'isPublished': False, 'rating': 3.3}, {'_id': ObjectId('68e1c8d22cb9762fe4258e5c'), 'courseId': 'course_999', 'title': 'Automated Testing', 'description': 'Unit testing and integration testing.', 'instructorId': 'instr_100', 'category': 'programming', 'level': 'intermediate', 'duration': 8.0, 'price': 79.99, 'tags': ['testing', 'ci'], 'createdAt': datetime.datetime(2025, 10, 5, 1, 24, 34, 579000), 'updatedAt': None, 'isPublished': False}]\n"
     ]
    }
   ],
   "source": [
    "prog_courses = list(db.courses.find({\"category\": \"programming\"}))\n",
    "print(prog_courses)"
   ]
  },
  {
   "cell_type": "code",
   "execution_count": 19,
   "id": "f214ead8",
   "metadata": {},
   "outputs": [
    {
     "name": "stdout",
     "output_type": "stream",
     "text": [
      "[]\n"
     ]
    }
   ],
   "source": [
    "search_term = \"python\"\n",
    "courses_found = list(db.courses.find({\"title\": {\"$regex\": search_term, \"$options\": \"i\"}}))\n",
    "print(courses_found)"
   ]
  },
  {
   "cell_type": "code",
   "execution_count": null,
   "id": "4d280559",
   "metadata": {},
   "outputs": [],
   "source": [
    "3.3 Update operations"
   ]
  },
  {
   "cell_type": "code",
   "execution_count": 20,
   "id": "824253cc",
   "metadata": {},
   "outputs": [
    {
     "data": {
      "text/plain": [
       "UpdateResult({'n': 1, 'nModified': 1, 'ok': 1.0, 'updatedExisting': True}, acknowledged=True)"
      ]
     },
     "execution_count": 20,
     "metadata": {},
     "output_type": "execute_result"
    }
   ],
   "source": [
    "# Update a user's profile information\n",
    "db.users.update_one({\"userId\":\"stud_9999\"}, {\"$set\":{\"profile.bio\":\"Updated bio\",\"profile.skills\":[\"testing\",\"git\"]}})\n",
    "\n",
    "\n"
   ]
  },
  {
   "cell_type": "code",
   "execution_count": 21,
   "id": "5256520b",
   "metadata": {},
   "outputs": [
    {
     "data": {
      "text/plain": [
       "UpdateResult({'n': 1, 'nModified': 1, 'ok': 1.0, 'updatedExisting': True}, acknowledged=True)"
      ]
     },
     "execution_count": 21,
     "metadata": {},
     "output_type": "execute_result"
    }
   ],
   "source": [
    "\n",
    "# Update assignment grades\n",
    "db.submissions.update_one({\"submissionId\":\"sub_1\"}, {\"$set\":{\"grade\":95.0, \"feedback\":\"Excellent\"}})\n"
   ]
  },
  {
   "cell_type": "code",
   "execution_count": 22,
   "id": "855de8b3",
   "metadata": {},
   "outputs": [
    {
     "data": {
      "text/plain": [
       "UpdateResult({'n': 1, 'nModified': 1, 'ok': 1.0, 'updatedExisting': True}, acknowledged=True)"
      ]
     },
     "execution_count": 22,
     "metadata": {},
     "output_type": "execute_result"
    }
   ],
   "source": [
    "# Add tags to existing course (append if not present)\n",
    "db.courses.update_one({\"courseId\":\"course_999\"}, {\"$addToSet\":{\"tags\": {\"$each\":[\"automation\",\"qa\"]}}})"
   ]
  },
  {
   "cell_type": "code",
   "execution_count": 23,
   "id": "53f75618",
   "metadata": {},
   "outputs": [
    {
     "name": "stderr",
     "output_type": "stream",
     "text": [
      "C:\\Users\\SYLVESTER\\AppData\\Local\\Temp\\ipykernel_3720\\612115014.py:2: DeprecationWarning: datetime.datetime.utcnow() is deprecated and scheduled for removal in a future version. Use timezone-aware objects to represent datetimes in UTC: datetime.datetime.now(datetime.UTC).\n",
      "  db.courses.update_one({\"courseId\":\"course_999\"}, {\"$set\":{\"isPublished\": True, \"updatedAt\": datetime.utcnow()}})\n"
     ]
    },
    {
     "data": {
      "text/plain": [
       "UpdateResult({'n': 1, 'nModified': 1, 'ok': 1.0, 'updatedExisting': True}, acknowledged=True)"
      ]
     },
     "execution_count": 23,
     "metadata": {},
     "output_type": "execute_result"
    }
   ],
   "source": [
    "# Mark a course as published\n",
    "db.courses.update_one({\"courseId\":\"course_999\"}, {\"$set\":{\"isPublished\": True, \"updatedAt\": datetime.utcnow()}})\n"
   ]
  },
  {
   "cell_type": "code",
   "execution_count": null,
   "id": "8543990a",
   "metadata": {},
   "outputs": [],
   "source": [
    "3.4 Delete operations"
   ]
  },
  {
   "cell_type": "code",
   "execution_count": 24,
   "id": "b0a7389a",
   "metadata": {},
   "outputs": [
    {
     "data": {
      "text/plain": [
       "UpdateResult({'n': 1, 'nModified': 1, 'ok': 1.0, 'updatedExisting': True}, acknowledged=True)"
      ]
     },
     "execution_count": 24,
     "metadata": {},
     "output_type": "execute_result"
    }
   ],
   "source": [
    "# Soft delete user\n",
    "db.users.update_one({\"userId\":\"stud_9999\"}, {\"$set\":{\"isActive\": False}})"
   ]
  },
  {
   "cell_type": "code",
   "execution_count": 25,
   "id": "ad93ea03",
   "metadata": {},
   "outputs": [
    {
     "data": {
      "text/plain": [
       "DeleteResult({'n': 1, 'ok': 1.0}, acknowledged=True)"
      ]
     },
     "execution_count": 25,
     "metadata": {},
     "output_type": "execute_result"
    }
   ],
   "source": [
    "# Delete an enrollment (hard delete)\n",
    "db.enrollments.delete_one({\"enrollmentId\":\"enr_999\"})"
   ]
  },
  {
   "cell_type": "code",
   "execution_count": 26,
   "id": "80399d7e",
   "metadata": {},
   "outputs": [
    {
     "data": {
      "text/plain": [
       "DeleteResult({'n': 1, 'ok': 1.0}, acknowledged=True)"
      ]
     },
     "execution_count": 26,
     "metadata": {},
     "output_type": "execute_result"
    }
   ],
   "source": [
    "# Remove a lesson from a course\n",
    "db.lessons.delete_one({\"lessonId\":\"lesson_999\"})"
   ]
  },
  {
   "cell_type": "code",
   "execution_count": null,
   "id": "5136062f",
   "metadata": {},
   "outputs": [],
   "source": [
    "Task 4.1: Complex queries"
   ]
  },
  {
   "cell_type": "code",
   "execution_count": 28,
   "id": "3c127fe0",
   "metadata": {},
   "outputs": [
    {
     "name": "stdout",
     "output_type": "stream",
     "text": [
      "[{'_id': ObjectId('68e1c6332cb9762fe4258df3'), 'courseId': 'course_202', 'title': 'He measure', 'description': 'Free simple sort occur prepare magazine. Method clear daughter number administration.', 'instructorId': 'instr_100', 'category': 'design', 'level': 'advanced', 'duration': 9.5, 'price': 199.99, 'tags': ['whom', 'that', 'week'], 'createdAt': datetime.datetime(2024, 2, 3, 4, 52, 36), 'updatedAt': None, 'isPublished': False, 'rating': 3.6}, {'_id': ObjectId('68e1c6332cb9762fe4258df5'), 'courseId': 'course_204', 'title': 'Player author great', 'description': 'Its partner meeting off. Technology order subject raise.', 'instructorId': 'instr_102', 'category': 'finance', 'level': 'intermediate', 'duration': 21.0, 'price': 199.99, 'tags': ['we', 'resource', 'nearly'], 'createdAt': datetime.datetime(2025, 6, 26, 1, 31, 8), 'updatedAt': None, 'isPublished': False, 'rating': 4.0}, {'_id': ObjectId('68e1c6332cb9762fe4258df6'), 'courseId': 'course_205', 'title': 'Measure number', 'description': 'Health traditional history person season. Page group executive hot computer level wait.', 'instructorId': 'instr_100', 'category': 'programming', 'level': 'beginner', 'duration': 1.1, 'price': 199.99, 'tags': ['him', 'begin', 'know'], 'createdAt': datetime.datetime(2025, 2, 16, 8, 37, 47), 'updatedAt': None, 'isPublished': False, 'rating': 3.6}, {'_id': ObjectId('68e1c6332cb9762fe4258df8'), 'courseId': 'course_207', 'title': 'Remember song', 'description': 'Size very suggest. But one since sound.', 'instructorId': 'instr_103', 'category': 'programming', 'level': 'advanced', 'duration': 10.1, 'price': 99.99, 'tags': ['rate', 'keep', 'let'], 'createdAt': datetime.datetime(2024, 1, 28, 0, 15, 44), 'updatedAt': None, 'isPublished': False, 'rating': 3.3}, {'_id': ObjectId('68e1c8d22cb9762fe4258e5c'), 'courseId': 'course_999', 'title': 'Automated Testing', 'description': 'Unit testing and integration testing.', 'instructorId': 'instr_100', 'category': 'programming', 'level': 'intermediate', 'duration': 8.0, 'price': 79.99, 'tags': ['testing', 'ci', 'automation', 'qa'], 'createdAt': datetime.datetime(2025, 10, 5, 1, 24, 34, 579000), 'updatedAt': datetime.datetime(2025, 10, 5, 6, 56, 55, 893000), 'isPublished': True}]\n"
     ]
    }
   ],
   "source": [
    "# Find courses with price between $50 and $200\n",
    "courses_price_range = list(db.courses.find({\"price\": {\"$gte\": 50, \"$lte\": 200}}))\n",
    "print(courses_price_range)"
   ]
  },
  {
   "cell_type": "code",
   "execution_count": 30,
   "id": "a14c024c",
   "metadata": {},
   "outputs": [
    {
     "name": "stdout",
     "output_type": "stream",
     "text": [
      "[{'_id': ObjectId('68e1c6332cb9762fe4258ddf'), 'userId': 'instr_102', 'email': 'instr_102@example.com', 'firstName': 'David', 'lastName': 'Miller', 'role': 'instructor', 'dateJoined': datetime.datetime(2025, 9, 2, 9, 34, 18), 'profile': {'bio': 'Affect ask determine continue art decide reduce Republican kitchen social.', 'avatar': '', 'skills': ['push', 'action', 'discover']}, 'isActive': True}, {'_id': ObjectId('68e1c6332cb9762fe4258dec'), 'userId': 'stud_1010', 'email': 'stud_1010@example.com', 'firstName': 'David', 'lastName': 'Watts', 'role': 'student', 'dateJoined': datetime.datetime(2025, 5, 19, 10, 14, 21), 'profile': {'bio': 'Thus wide media Mr show score pass environment wait stock.', 'avatar': '', 'skills': ['manager', 'top']}, 'isActive': True}, {'_id': ObjectId('68e1c6332cb9762fe4258ded'), 'userId': 'stud_1011', 'email': 'stud_1011@example.com', 'firstName': 'Jennifer', 'lastName': 'Gilbert', 'role': 'student', 'dateJoined': datetime.datetime(2025, 7, 23, 16, 4, 29), 'profile': {'bio': 'Involve whole tough investment mother view or six inside.', 'avatar': '', 'skills': ['usually', 'early']}, 'isActive': True}, {'_id': ObjectId('68e1c6842cb9762fe4258e53'), 'userId': 'stud_9999', 'email': 'newstudent@example.com', 'firstName': 'Samuel', 'lastName': 'Okoro', 'role': 'student', 'dateJoined': datetime.datetime(2025, 10, 5, 1, 14, 44, 585000), 'profile': {'bio': 'Updated bio', 'avatar': '', 'skills': ['testing', 'git']}, 'isActive': False}, {'_id': ObjectId('68e1c70a2cb9762fe4258e56'), 'userId': 'stud_9999', 'email': 'newstudent@example.com', 'firstName': 'Samuel', 'lastName': 'Okoro', 'role': 'student', 'dateJoined': datetime.datetime(2025, 10, 5, 1, 16, 58, 680000), 'profile': {'bio': 'New student', 'avatar': '', 'skills': []}, 'isActive': True}]\n"
     ]
    },
    {
     "name": "stderr",
     "output_type": "stream",
     "text": [
      "C:\\Users\\SYLVESTER\\AppData\\Local\\Temp\\ipykernel_3720\\253433775.py:3: DeprecationWarning: datetime.datetime.utcnow() is deprecated and scheduled for removal in a future version. Use timezone-aware objects to represent datetimes in UTC: datetime.datetime.now(datetime.UTC).\n",
      "  six_months_ago = datetime.utcnow() - timedelta(days=30*6)\n"
     ]
    }
   ],
   "source": [
    "# Get users who joined in the last 6 months\n",
    "from datetime import datetime, timedelta\n",
    "six_months_ago = datetime.utcnow() - timedelta(days=30*6)\n",
    "recent_users = list(db.users.find({\"dateJoined\": {\"$gte\": six_months_ago}}))\n",
    "print(recent_users)"
   ]
  },
  {
   "cell_type": "code",
   "execution_count": 32,
   "id": "b90d7b28",
   "metadata": {},
   "outputs": [
    {
     "name": "stdout",
     "output_type": "stream",
     "text": [
      "[]\n"
     ]
    }
   ],
   "source": [
    "# Find courses that have specific tags using $in\n",
    "tags_search = list(db.courses.find({\"tags\": {\"$in\": [\"python\", \"data\"]}}))\n",
    "print(tags_search)"
   ]
  },
  {
   "cell_type": "code",
   "execution_count": 37,
   "id": "415005af",
   "metadata": {},
   "outputs": [
    {
     "name": "stderr",
     "output_type": "stream",
     "text": [
      "C:\\Users\\SYLVESTER\\AppData\\Local\\Temp\\ipykernel_3720\\3386083103.py:2: DeprecationWarning: datetime.datetime.utcnow() is deprecated and scheduled for removal in a future version. Use timezone-aware objects to represent datetimes in UTC: datetime.datetime.now(datetime.UTC).\n",
      "  one_week = datetime.utcnow() + timedelta(days=7)\n",
      "C:\\Users\\SYLVESTER\\AppData\\Local\\Temp\\ipykernel_3720\\3386083103.py:3: DeprecationWarning: datetime.datetime.utcnow() is deprecated and scheduled for removal in a future version. Use timezone-aware objects to represent datetimes in UTC: datetime.datetime.now(datetime.UTC).\n",
      "  upcoming_assignments = list(db.assignments.find({\"dueDate\": {\"$lte\": one_week, \"$gte\": datetime.utcnow()}}))\n"
     ]
    },
    {
     "data": {
      "text/plain": [
       "[{'_id': ObjectId('68e1c6332cb9762fe4258e3f'),\n",
       "  'assignmentId': 'assign_2',\n",
       "  'courseId': 'course_201',\n",
       "  'title': 'Whole about wife for Assignment 2',\n",
       "  'description': 'Former play agent.',\n",
       "  'dueDate': datetime.datetime(2025, 10, 5, 10, 47, 23),\n",
       "  'maxPoints': 100}]"
      ]
     },
     "execution_count": 37,
     "metadata": {},
     "output_type": "execute_result"
    }
   ],
   "source": [
    "# Retrieve assignments due in the next week\n",
    "one_week = datetime.utcnow() + timedelta(days=7)\n",
    "upcoming_assignments = list(db.assignments.find({\"dueDate\": {\"$lte\": one_week, \"$gte\": datetime.utcnow()}}))\n",
    "upcoming_assignments"
   ]
  },
  {
   "cell_type": "code",
   "execution_count": null,
   "id": "76791ec8",
   "metadata": {},
   "outputs": [],
   "source": [
    "Task 4.2: Aggregation Pipelines (examples)\n",
    "Course Enrollment Statistics"
   ]
  },
  {
   "cell_type": "code",
   "execution_count": 36,
   "id": "832f100e",
   "metadata": {},
   "outputs": [
    {
     "data": {
      "text/plain": [
       "[{'_id': 'course_203',\n",
       "  'totalEnrollments': 2,\n",
       "  'courseId': 'course_203',\n",
       "  'title': 'Health probably major',\n",
       "  'category': 'business',\n",
       "  'avgRating': 4.3},\n",
       " {'_id': 'course_201',\n",
       "  'totalEnrollments': 6,\n",
       "  'courseId': 'course_201',\n",
       "  'title': 'Whole about wife for',\n",
       "  'category': 'language',\n",
       "  'avgRating': 4.5},\n",
       " {'_id': 'course_207',\n",
       "  'totalEnrollments': 4,\n",
       "  'courseId': 'course_207',\n",
       "  'title': 'Remember song',\n",
       "  'category': 'programming',\n",
       "  'avgRating': 3.3},\n",
       " {'_id': 'course_200',\n",
       "  'totalEnrollments': 6,\n",
       "  'courseId': 'course_200',\n",
       "  'title': 'By woman success organization speech',\n",
       "  'category': 'finance',\n",
       "  'avgRating': 3.7},\n",
       " {'_id': 'course_204',\n",
       "  'totalEnrollments': 4,\n",
       "  'courseId': 'course_204',\n",
       "  'title': 'Player author great',\n",
       "  'category': 'finance',\n",
       "  'avgRating': 4.0},\n",
       " {'_id': 'course_202',\n",
       "  'totalEnrollments': 6,\n",
       "  'courseId': 'course_202',\n",
       "  'title': 'He measure',\n",
       "  'category': 'design',\n",
       "  'avgRating': 3.6},\n",
       " {'_id': 'course_206',\n",
       "  'totalEnrollments': 1,\n",
       "  'courseId': 'course_206',\n",
       "  'title': 'Game goal',\n",
       "  'category': 'data-science',\n",
       "  'avgRating': 3.3},\n",
       " {'_id': 'course_205',\n",
       "  'totalEnrollments': 4,\n",
       "  'courseId': 'course_205',\n",
       "  'title': 'Measure number',\n",
       "  'category': 'programming',\n",
       "  'avgRating': 3.6}]"
      ]
     },
     "execution_count": 36,
     "metadata": {},
     "output_type": "execute_result"
    }
   ],
   "source": [
    "# Count total enrollments per course, average course rating, group by category\n",
    "pipeline = [\n",
    "    {\"$group\": {\"_id\": \"$courseId\", \"totalEnrollments\": {\"$sum\": 1}}},\n",
    "    {\"$lookup\": {\"from\":\"courses\",\"localField\":\"_id\",\"foreignField\":\"courseId\",\"as\":\"course\"}},\n",
    "    {\"$unwind\":\"$course\"},\n",
    "    {\"$project\": {\"courseId\":\"$_id\",\"title\":\"$course.title\",\"category\":\"$course.category\",\"totalEnrollments\":1,\"avgRating\":\"$course.rating\"}}\n",
    "]\n",
    "enrollment_stats = list(db.enrollments.aggregate(pipeline))\n",
    "\n",
    "enrollment_stats\n"
   ]
  },
  {
   "cell_type": "code",
   "execution_count": null,
   "id": "64d6d988",
   "metadata": {},
   "outputs": [],
   "source": [
    "Student Performance Analysis"
   ]
  },
  {
   "cell_type": "code",
   "execution_count": 39,
   "id": "2547d42b",
   "metadata": {},
   "outputs": [
    {
     "data": {
      "text/plain": [
       "[{'_id': 'stud_1006', 'avgGrade': 94.3, 'submissionCount': 1},\n",
       " {'_id': 'stud_1014', 'avgGrade': 91.2, 'submissionCount': 1},\n",
       " {'_id': 'stud_1010', 'avgGrade': 90.05, 'submissionCount': 2},\n",
       " {'_id': 'stud_1002', 'avgGrade': 87.65, 'submissionCount': 2},\n",
       " {'_id': 'stud_1012', 'avgGrade': 80.85, 'submissionCount': 2},\n",
       " {'_id': 'stud_1011', 'avgGrade': 79.05, 'submissionCount': 2},\n",
       " {'_id': 'stud_1004', 'avgGrade': 77.0, 'submissionCount': 1},\n",
       " {'_id': 'stud_1000', 'avgGrade': 68.5, 'submissionCount': 1},\n",
       " {'_id': 'stud_1009', 'avgGrade': 62.5, 'submissionCount': 2},\n",
       " {'_id': 'stud_1008', 'avgGrade': 50.7, 'submissionCount': 1}]"
      ]
     },
     "execution_count": 39,
     "metadata": {},
     "output_type": "execute_result"
    }
   ],
   "source": [
    "pipeline = [\n",
    "    {\"$group\": {\"_id\": \"$studentId\",\"avgGrade\": {\"$avg\":\"$grade\"}, \"submissionCount\": {\"$sum\":1}}},\n",
    "    {\"$sort\": {\"avgGrade\": -1}}\n",
    "]\n",
    "avg_grade_per_student = list(db.submissions.aggregate(pipeline))\n",
    "\n",
    "avg_grade_per_student"
   ]
  },
  {
   "cell_type": "code",
   "execution_count": 40,
   "id": "87fcbda7",
   "metadata": {},
   "outputs": [
    {
     "data": {
      "text/plain": [
       "[{'_id': 'course_201',\n",
       "  'courseId': 'course_201',\n",
       "  'completionRate': 33.33333333333333},\n",
       " {'_id': 'course_200',\n",
       "  'courseId': 'course_200',\n",
       "  'completionRate': 33.33333333333333},\n",
       " {'_id': 'course_203', 'courseId': 'course_203', 'completionRate': 50.0},\n",
       " {'_id': 'course_206', 'courseId': 'course_206', 'completionRate': 100.0},\n",
       " {'_id': 'course_204', 'courseId': 'course_204', 'completionRate': 25.0},\n",
       " {'_id': 'course_202',\n",
       "  'courseId': 'course_202',\n",
       "  'completionRate': 16.666666666666664},\n",
       " {'_id': 'course_207', 'courseId': 'course_207', 'completionRate': 100.0},\n",
       " {'_id': 'course_205', 'courseId': 'course_205', 'completionRate': 50.0}]"
      ]
     },
     "execution_count": 40,
     "metadata": {},
     "output_type": "execute_result"
    }
   ],
   "source": [
    "# Completion rate by course (completed enrollments / total enrollments)\n",
    "pipeline = [\n",
    "    {\"$group\": {\"_id\": {\"courseId\":\"$courseId\", \"status\":\"$status\"}, \"count\": {\"$sum\":1}}},\n",
    "    {\"$group\": {\"_id\":\"$_id.courseId\", \"counts\":{\"$push\":{\"status\":\"$_id.status\",\"count\":\"$count\"}}, \"total\":{\"$sum\":\"$count\"}}},\n",
    "    {\"$project\": {\n",
    "        \"courseId\":\"$_id\",\n",
    "        \"completed\": {\"$filter\":{\"input\":\"$counts\",\"as\":\"c\",\"cond\":{\"$eq\":[\"$$c.status\",\"completed\"]}}},\n",
    "        \"total\":\"$total\"\n",
    "    }},\n",
    "    {\"$unwind\": {\"path\":\"$completed\",\"preserveNullAndEmptyArrays\":True}},\n",
    "    {\"$project\": {\"courseId\":1, \"completionRate\":{\"$cond\":[{\"$gt\":[\"$total\",0]}, {\"$multiply\":[{\"$divide\":[\"$completed.count\",\"$total\"]},100]}, 0]}}}\n",
    "]\n",
    "completion_rates = list(db.enrollments.aggregate(pipeline))\n",
    "\n",
    "completion_rates"
   ]
  },
  {
   "cell_type": "code",
   "execution_count": null,
   "id": "38d5b9fe",
   "metadata": {},
   "outputs": [],
   "source": [
    "Instructor Analytics — revenue and students taught"
   ]
  },
  {
   "cell_type": "code",
   "execution_count": 41,
   "id": "cdf3763b",
   "metadata": {},
   "outputs": [
    {
     "data": {
      "text/plain": [
       "[{'_id': 'instr_104',\n",
       "  'revenue': 0,\n",
       "  'instructorId': 'instr_104',\n",
       "  'totalStudents': 6},\n",
       " {'_id': 'instr_103',\n",
       "  'revenue': 399.96,\n",
       "  'instructorId': 'instr_103',\n",
       "  'totalStudents': 4},\n",
       " {'_id': 'instr_100',\n",
       "  'revenue': 2039.88,\n",
       "  'instructorId': 'instr_100',\n",
       "  'totalStudents': 9},\n",
       " {'_id': 'instr_101',\n",
       "  'revenue': 319.93,\n",
       "  'instructorId': 'instr_101',\n",
       "  'totalStudents': 7},\n",
       " {'_id': 'instr_102',\n",
       "  'revenue': 799.96,\n",
       "  'instructorId': 'instr_102',\n",
       "  'totalStudents': 4}]"
      ]
     },
     "execution_count": 41,
     "metadata": {},
     "output_type": "execute_result"
    }
   ],
   "source": [
    "# Revenue per instructor (sum of course price * enrollments)\n",
    "pipeline = [\n",
    "    {\"$lookup\": {\"from\":\"courses\",\"localField\":\"courseId\",\"foreignField\":\"courseId\",\"as\":\"course\"}},\n",
    "    {\"$unwind\":\"$course\"},\n",
    "    {\"$group\": {\"_id\":\"$course.instructorId\", \"revenue\":{\"$sum\":\"$course.price\"}, \"students\":{\"$addToSet\":\"$studentId\"}}},\n",
    "    {\"$project\": {\"instructorId\":\"$_id\",\"revenue\":1,\"totalStudents\":{\"$size\":\"$students\"}}}\n",
    "]\n",
    "instructor_revenue = list(db.enrollments.aggregate(pipeline))\n",
    "\n",
    "instructor_revenue"
   ]
  },
  {
   "cell_type": "code",
   "execution_count": null,
   "id": "f8aecf33",
   "metadata": {},
   "outputs": [],
   "source": [
    "Monthly enrollment trends"
   ]
  },
  {
   "cell_type": "code",
   "execution_count": 42,
   "id": "48ba783d",
   "metadata": {},
   "outputs": [
    {
     "data": {
      "text/plain": [
       "[{'_id': {'year': 2024, 'month': 4}, 'count': 1},\n",
       " {'_id': {'year': 2024, 'month': 5}, 'count': 1},\n",
       " {'_id': {'year': 2024, 'month': 6}, 'count': 3},\n",
       " {'_id': {'year': 2024, 'month': 7}, 'count': 1},\n",
       " {'_id': {'year': 2024, 'month': 8}, 'count': 2},\n",
       " {'_id': {'year': 2024, 'month': 12}, 'count': 1},\n",
       " {'_id': {'year': 2025, 'month': 2}, 'count': 4},\n",
       " {'_id': {'year': 2025, 'month': 3}, 'count': 1},\n",
       " {'_id': {'year': 2025, 'month': 4}, 'count': 1},\n",
       " {'_id': {'year': 2025, 'month': 5}, 'count': 2},\n",
       " {'_id': {'year': 2025, 'month': 6}, 'count': 1},\n",
       " {'_id': {'year': 2025, 'month': 7}, 'count': 2},\n",
       " {'_id': {'year': 2025, 'month': 8}, 'count': 3},\n",
       " {'_id': {'year': 2025, 'month': 9}, 'count': 9},\n",
       " {'_id': {'year': 2025, 'month': 10}, 'count': 1}]"
      ]
     },
     "execution_count": 42,
     "metadata": {},
     "output_type": "execute_result"
    }
   ],
   "source": [
    "pipeline = [\n",
    "    {\"$project\": {\"year\": {\"$year\":\"$enrolledAt\"}, \"month\":{\"$month\":\"$enrolledAt\"}}},\n",
    "    {\"$group\": {\"_id\":{\"year\":\"$year\",\"month\":\"$month\"}, \"count\":{\"$sum\":1}}},\n",
    "    {\"$sort\": {\"_id.year\":1, \"_id.month\":1}}\n",
    "]\n",
    "monthly_trends = list(db.enrollments.aggregate(pipeline))\n",
    "\n",
    "monthly_trends\n"
   ]
  },
  {
   "cell_type": "code",
   "execution_count": null,
   "id": "cd58fd7e",
   "metadata": {},
   "outputs": [],
   "source": [
    "6 — Indexing & Performance"
   ]
  },
  {
   "cell_type": "code",
   "execution_count": 46,
   "id": "ad727fac",
   "metadata": {},
   "outputs": [
    {
     "data": {
      "text/plain": [
       "'idx_enr_course'"
      ]
     },
     "execution_count": 46,
     "metadata": {},
     "output_type": "execute_result"
    }
   ],
   "source": [
    "# Create indexes\n",
    "db.users.create_index(\"email\", unique=True, name=\"idx_users_email\")\n",
    "db.users.create_index([(\"userId\", 1)], unique=True, name=\"idx_users_userid\")\n",
    "db.courses.create_index([(\"title\", \"text\"), (\"description\",\"text\")], name=\"idx_courses_text\")  # text search\n",
    "db.courses.create_index([(\"category\", 1)], name=\"idx_courses_category\")\n",
    "db.courses.create_index([(\"courseId\",1)], unique=True, name=\"idx_courseid\")\n",
    "db.assignments.create_index([(\"dueDate\", 1)], name=\"idx_assign_dueDate\")\n",
    "db.enrollments.create_index([(\"studentId\",1)], name=\"idx_enr_student\")\n",
    "db.enrollments.create_index([(\"courseId\",1)], name=\"idx_enr_course\")\n"
   ]
  },
  {
   "cell_type": "code",
   "execution_count": 44,
   "id": "37e0a31d",
   "metadata": {},
   "outputs": [
    {
     "name": "stdout",
     "output_type": "stream",
     "text": [
      "{'_id': 'newstudent@example.com', 'count': 2, 'ids': [ObjectId('68e1c6842cb9762fe4258e53'), ObjectId('68e1c70a2cb9762fe4258e56')]}\n"
     ]
    }
   ],
   "source": [
    "pipeline = [\n",
    "    {\"$group\": {\"_id\": \"$email\", \"count\": {\"$sum\": 1}, \"ids\": {\"$push\": \"$_id\"}}},\n",
    "    {\"$match\": {\"count\": {\"$gt\": 1}}}\n",
    "]\n",
    "duplicates = list(db.users.aggregate(pipeline))\n",
    "for dup in duplicates:\n",
    "    print(dup)"
   ]
  },
  {
   "cell_type": "code",
   "execution_count": 45,
   "id": "36f0029e",
   "metadata": {},
   "outputs": [],
   "source": [
    "for dup in duplicates:\n",
    "    # Keep first document, remove others\n",
    "    for _id in dup[\"ids\"][1:]:\n",
    "        db.users.delete_one({\"_id\": _id})\n"
   ]
  },
  {
   "cell_type": "code",
   "execution_count": 47,
   "id": "ec36cef8",
   "metadata": {},
   "outputs": [
    {
     "name": "stdout",
     "output_type": "stream",
     "text": [
      "Explain: {'namespace': 'eduhub_db.enrollments', 'parsedQuery': {'courseId': {'$eq': 'course_999'}}, 'indexFilterSet': False, 'queryHash': '5644C0BC', 'planCacheShapeHash': '5644C0BC', 'planCacheKey': '9FAD8D3B', 'optimizationTimeMillis': 13, 'maxIndexedOrSolutionsReached': False, 'maxIndexedAndSolutionsReached': False, 'maxScansToExplodeReached': False, 'prunedSimilarIndexes': False, 'winningPlan': {'isCached': False, 'stage': 'FETCH', 'inputStage': {'stage': 'IXSCAN', 'keyPattern': {'courseId': 1}, 'indexName': 'idx_enr_course', 'isMultiKey': False, 'multiKeyPaths': {'courseId': []}, 'isUnique': False, 'isSparse': False, 'isPartial': False, 'indexVersion': 2, 'direction': 'forward', 'indexBounds': {'courseId': ['[\"course_999\", \"course_999\"]']}}}, 'rejectedPlans': []}\n",
      "Elapsed (s): 0.10388565063476562\n"
     ]
    }
   ],
   "source": [
    "import time\n",
    "q = {\"courseId\":\"course_999\"}\n",
    "start = time.time()\n",
    "res = db.enrollments.find(q).explain()\n",
    "elapsed = time.time() - start\n",
    "print(\"Explain:\", res.get('queryPlanner', {}))\n",
    "print(\"Elapsed (s):\", elapsed)"
   ]
  },
  {
   "cell_type": "code",
   "execution_count": 48,
   "id": "0e416829",
   "metadata": {},
   "outputs": [
    {
     "name": "stdout",
     "output_type": "stream",
     "text": [
      "Duplicate key: {'index': 0, 'code': 11000, 'errmsg': 'E11000 duplicate key error collection: eduhub_db.users index: idx_users_email dup key: { email: \"newstudent@example.com\" }', 'keyPattern': {'email': 1}, 'keyValue': {'email': 'newstudent@example.com'}}\n",
      "WriteError (validation failure): {'index': 0, 'code': 121, 'errmsg': 'Document failed validation', 'errInfo': {'failingDocumentId': ObjectId('68e21ff82cb9762fe4258e61'), 'details': {'operatorName': '$jsonSchema', 'schemaRulesNotSatisfied': [{'operatorName': 'properties', 'propertiesNotSatisfied': [{'propertyName': 'email', 'details': [{'operatorName': 'pattern', 'specifiedAs': {'pattern': '^[^@ \\\\t\\\\r\\\\n]+@[^@ \\\\t\\\\r\\\\n]+\\\\.[^@ \\\\t\\\\r\\\\n]+$'}, 'reason': 'regular expression did not match', 'consideredValue': 'not-an-email'}]}, {'propertyName': 'firstName', 'details': [{'operatorName': 'bsonType', 'specifiedAs': {'bsonType': 'string'}, 'reason': 'type did not match', 'consideredValue': 123, 'consideredType': 'int'}]}]}]}}}\n"
     ]
    },
    {
     "name": "stderr",
     "output_type": "stream",
     "text": [
      "C:\\Users\\SYLVESTER\\AppData\\Local\\Temp\\ipykernel_3720\\1960855169.py:10: DeprecationWarning: datetime.datetime.utcnow() is deprecated and scheduled for removal in a future version. Use timezone-aware objects to represent datetimes in UTC: datetime.datetime.now(datetime.UTC).\n",
      "  invalid_user = {\"userId\":\"u_bad\", \"email\":\"not-an-email\", \"firstName\": 123, \"lastName\":\"X\", \"role\":\"student\", \"dateJoined\": datetime.utcnow(), \"isActive\": True}\n"
     ]
    }
   ],
   "source": [
    "\n",
    "from pymongo.errors import DuplicateKeyError, WriteError\n",
    "\n",
    "# Duplicate key handling example\n",
    "try:\n",
    "    db.users.insert_one(new_user)  # might violate unique email/userId\n",
    "except DuplicateKeyError as e:\n",
    "    print(\"Duplicate key:\", e.details or str(e))\n",
    "\n",
    "# Invalid data type insertion (violates schema)\n",
    "invalid_user = {\"userId\":\"u_bad\", \"email\":\"not-an-email\", \"firstName\": 123, \"lastName\":\"X\", \"role\":\"student\", \"dateJoined\": datetime.utcnow(), \"isActive\": True}\n",
    "try:\n",
    "    db.users.insert_one(invalid_user)\n",
    "except WriteError as e:\n",
    "    print(\"WriteError (validation failure):\", e.details or str(e))"
   ]
  },
  {
   "cell_type": "code",
   "execution_count": 51,
   "id": "218e355a",
   "metadata": {},
   "outputs": [
    {
     "name": "stdout",
     "output_type": "stream",
     "text": [
      "Exported sample_data.json\n"
     ]
    }
   ],
   "source": [
    "import json\n",
    "collections = [\"users\",\"courses\",\"enrollments\",\"lessons\",\"assignments\",\"submissions\"]\n",
    "export = {}\n",
    "for c in collections:\n",
    "    docs = list(db[c].find({}, {\"_id\":0}))  # drop _id for portability\n",
    "    export[c] = docs\n",
    "\n",
    "with open(\"data/sample_data.json\",\"w\", encoding=\"utf-8\") as f:\n",
    "    json.dump(export, f, default=str, indent=2)\n",
    "print(\"Exported sample_data.json\")"
   ]
  },
  {
   "cell_type": "code",
   "execution_count": 50,
   "id": "ace0bb9d",
   "metadata": {},
   "outputs": [
    {
     "name": "stdout",
     "output_type": "stream",
     "text": [
      "✅ Exported data/sample_data.json successfully.\n"
     ]
    }
   ],
   "source": [
    "import os, json\n",
    "\n",
    "# Ensure folder exists\n",
    "os.makedirs(\"data\", exist_ok=True)\n",
    "\n",
    "# Now export safely\n",
    "export = {}\n",
    "for c in db.list_collection_names():\n",
    "    docs = list(db[c].find({}, {\"_id\": 0}))\n",
    "    export[c] = docs\n",
    "\n",
    "with open(\"data/sample_data.json\", \"w\", encoding=\"utf-8\") as f:\n",
    "    json.dump(export, f, default=str, indent=2)\n",
    "\n",
    "print(\"✅ Exported data/sample_data.json successfully.\")\n"
   ]
  }
 ],
 "metadata": {
  "kernelspec": {
   "display_name": "Python 3",
   "language": "python",
   "name": "python3"
  },
  "language_info": {
   "codemirror_mode": {
    "name": "ipython",
    "version": 3
   },
   "file_extension": ".py",
   "mimetype": "text/x-python",
   "name": "python",
   "nbconvert_exporter": "python",
   "pygments_lexer": "ipython3",
   "version": "3.10.8"
  }
 },
 "nbformat": 4,
 "nbformat_minor": 5
}
